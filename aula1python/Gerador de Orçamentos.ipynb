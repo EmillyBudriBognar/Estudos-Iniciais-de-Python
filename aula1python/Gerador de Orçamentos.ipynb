{
 "cells": [
  {
   "cell_type": "markdown",
   "id": "23e5fc47",
   "metadata": {},
   "source": [
    "# Meu primeiro código Python"
   ]
  },
  {
   "cell_type": "code",
   "execution_count": 12,
   "id": "fc5adf32",
   "metadata": {},
   "outputs": [
    {
     "name": "stdout",
     "output_type": "stream",
     "text": [
      "Orçamento gerado com sucesso!\n",
      "Semana do Python na Prática\n",
      "Eu adoro programar em Python!\n"
     ]
    }
   ],
   "source": [
    "print(\"Orçamento gerado com sucesso!\")\n",
    "print(\"Semana do Python na Prática\")\n",
    "print(\"Eu adoro programar em Python!\")"
   ]
  },
  {
   "cell_type": "markdown",
   "id": "b6ff5f20",
   "metadata": {},
   "source": [
    "# Entrada de dados"
   ]
  },
  {
   "cell_type": "code",
   "execution_count": null,
   "id": "21f04b8d",
   "metadata": {},
   "outputs": [],
   "source": [
    "input(\"Digite a descrição do projeto: \")\n",
    "input(\"Digite o total de horas estimadas: \")\n",
    "input(\"Digite o valor da hora trabalhada: \")\n",
    "input(\"Digite o prazo estimado: \")"
   ]
  },
  {
   "cell_type": "markdown",
   "id": "9a6839c8",
   "metadata": {},
   "source": [
    "# Gravando dados (variáveis)\n",
    "- não pode começar em número\n",
    "- não pode ter espaço\n",
    "- não pode ser uma palavra do python"
   ]
  },
  {
   "cell_type": "code",
   "execution_count": null,
   "id": "28d14467",
   "metadata": {},
   "outputs": [],
   "source": [
    "projeto = input(\"Digite a descrição do projeto: \")\n",
    "horas_estimadas = input(\"Digite o total de horas estimadas: \")\n",
    "valor_hora = input(\"Digite o valor da hora trabalhada: \")\n",
    "prazo = input(\"Digite o prazo estimado: \")"
   ]
  },
  {
   "cell_type": "markdown",
   "id": "b2992962",
   "metadata": {},
   "source": [
    "# Cálculos\n",
    "## Tipo de dados\n",
    "### type() -> mostra o tipo do dado\n",
    "- STR= string (\"10\")\n",
    "- INT= n° inteiro (10)\n",
    "- FLOAT= n° racional (10.0)"
   ]
  },
  {
   "cell_type": "code",
   "execution_count": null,
   "id": "af900dfb",
   "metadata": {},
   "outputs": [],
   "source": [
    "valor_total = int(horas_estimadas) * int(valor_hora)"
   ]
  },
  {
   "cell_type": "code",
   "execution_count": null,
   "id": "4610fdf1",
   "metadata": {},
   "outputs": [],
   "source": [
    "print(valor_total)"
   ]
  },
  {
   "cell_type": "markdown",
   "id": "7e7f5829",
   "metadata": {},
   "source": [
    "# Gerador de PDF"
   ]
  },
  {
   "cell_type": "code",
   "execution_count": null,
   "id": "91a737a8",
   "metadata": {},
   "outputs": [],
   "source": [
    "!pip install fpdf"
   ]
  },
  {
   "cell_type": "code",
   "execution_count": null,
   "id": "d3d71620",
   "metadata": {},
   "outputs": [],
   "source": [
    "from fpdf import FPDF"
   ]
  },
  {
   "cell_type": "code",
   "execution_count": null,
   "id": "42b3db5b",
   "metadata": {},
   "outputs": [],
   "source": [
    "pdf = FPDF()\n",
    "\n",
    "pdf.add_page()\n",
    "pdf.set_font(\"Arial\")\n",
    "\n",
    "#coordenadas de onde estão os textos\n",
    "pdf.text(115, 145, projeto)\n",
    "pdf.text(115, 160, horas_estimadas)\n",
    "pdf.text(115, 175, valor_hora)\n",
    "pdf.text(115, 190, prazo)\n",
    "pdf.text(115, 205, str(valor_total)) #transformar o resultado em string!\n",
    "\n",
    "\n",
    "pdf.output(\"Orçamento.pdf\") #importante colocar a extensão na frente \n",
    "print(\"Orçamento gerado com sucesso!\")"
   ]
  },
  {
   "cell_type": "code",
   "execution_count": null,
   "id": "5f548c5c",
   "metadata": {},
   "outputs": [],
   "source": []
  },
  {
   "cell_type": "code",
   "execution_count": null,
   "id": "42b592a2",
   "metadata": {},
   "outputs": [],
   "source": []
  }
 ],
 "metadata": {
  "kernelspec": {
   "display_name": "Python 3 (ipykernel)",
   "language": "python",
   "name": "python3"
  },
  "language_info": {
   "codemirror_mode": {
    "name": "ipython",
    "version": 3
   },
   "file_extension": ".py",
   "mimetype": "text/x-python",
   "name": "python",
   "nbconvert_exporter": "python",
   "pygments_lexer": "ipython3",
   "version": "3.10.9"
  }
 },
 "nbformat": 4,
 "nbformat_minor": 5
}
